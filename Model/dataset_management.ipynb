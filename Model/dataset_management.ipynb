{
 "cells": [
  {
   "cell_type": "code",
   "execution_count": 1,
   "metadata": {},
   "outputs": [
    {
     "ename": "UserErrorException",
     "evalue": "UserErrorException:\n\tMessage: The workspace configuration file config.json, could not be found in c:\\Users\\drago\\Documents\\gitrepos\\recycle_robot\\Model or its parent directories. Please check whether the workspace configuration file exists, or provide the full path to the configuration file as an argument. You can download a configuration file for your workspace, via http://ml.azure.com and clicking on the name of your workspace in the right top.\n\tInnerException None\n\tErrorResponse \n{\n    \"error\": {\n        \"code\": \"UserError\",\n        \"message\": \"The workspace configuration file config.json, could not be found in c:\\\\Users\\\\drago\\\\Documents\\\\gitrepos\\\\recycle_robot\\\\Model or its parent directories. Please check whether the workspace configuration file exists, or provide the full path to the configuration file as an argument. You can download a configuration file for your workspace, via http://ml.azure.com and clicking on the name of your workspace in the right top.\"\n    }\n}",
     "output_type": "error",
     "traceback": [
      "\u001b[1;31m---------------------------------------------------------------------------\u001b[0m",
      "\u001b[1;31mUserErrorException\u001b[0m                        Traceback (most recent call last)",
      "Cell \u001b[1;32mIn[1], line 4\u001b[0m\n\u001b[0;32m      1\u001b[0m \u001b[39mimport\u001b[39;00m \u001b[39mazureml\u001b[39;00m\u001b[39m.\u001b[39;00m\u001b[39mcore\u001b[39;00m\n\u001b[0;32m      2\u001b[0m \u001b[39mfrom\u001b[39;00m \u001b[39mazureml\u001b[39;00m\u001b[39m.\u001b[39;00m\u001b[39mcore\u001b[39;00m \u001b[39mimport\u001b[39;00m Workspace\n\u001b[1;32m----> 4\u001b[0m ws \u001b[39m=\u001b[39m Workspace\u001b[39m.\u001b[39;49mfrom_config()\n",
      "File \u001b[1;32mc:\\Users\\drago\\Documents\\gitrepos\\recycle_robot\\venv\\lib\\site-packages\\azureml\\core\\workspace.py:280\u001b[0m, in \u001b[0;36mWorkspace.from_config\u001b[1;34m(path, auth, _logger, _file_name)\u001b[0m\n\u001b[0;32m    277\u001b[0m             \u001b[39mbreak\u001b[39;00m\n\u001b[0;32m    279\u001b[0m     \u001b[39mif\u001b[39;00m \u001b[39mnot\u001b[39;00m found_path:\n\u001b[1;32m--> 280\u001b[0m         \u001b[39mraise\u001b[39;00m UserErrorException(\n\u001b[0;32m    281\u001b[0m             \u001b[39m\"\u001b[39m\u001b[39mThe workspace configuration file config.json, could not be found in \u001b[39m\u001b[39m{}\u001b[39;00m\u001b[39m or its parent \u001b[39m\u001b[39m\"\u001b[39m\n\u001b[0;32m    282\u001b[0m             \u001b[39m\"\u001b[39m\u001b[39mdirectories. Please check whether the workspace configuration file exists, or provide \u001b[39m\u001b[39m\"\u001b[39m\n\u001b[0;32m    283\u001b[0m             \u001b[39m\"\u001b[39m\u001b[39mthe full path to the configuration file as an argument. You can download a configuration \u001b[39m\u001b[39m\"\u001b[39m\n\u001b[0;32m    284\u001b[0m             \u001b[39m\"\u001b[39m\u001b[39mfile for your workspace, via http://ml.azure.com and clicking on the name of your \u001b[39m\u001b[39m\"\u001b[39m\n\u001b[0;32m    285\u001b[0m             \u001b[39m\"\u001b[39m\u001b[39mworkspace in the right top.\u001b[39m\u001b[39m\"\u001b[39m\u001b[39m.\u001b[39mformat(\n\u001b[0;32m    286\u001b[0m                 normalized_path))\n\u001b[0;32m    288\u001b[0m subscription_id, resource_group, workspace_name \u001b[39m=\u001b[39m project_info\u001b[39m.\u001b[39mget_workspace_info(\n\u001b[0;32m    289\u001b[0m     found_path)\n\u001b[0;32m    291\u001b[0m _logger\u001b[39m.\u001b[39minfo(\u001b[39m'\u001b[39m\u001b[39mFound the config file in: \u001b[39m\u001b[39m%s\u001b[39;00m\u001b[39m'\u001b[39m, found_path)\n",
      "\u001b[1;31mUserErrorException\u001b[0m: UserErrorException:\n\tMessage: The workspace configuration file config.json, could not be found in c:\\Users\\drago\\Documents\\gitrepos\\recycle_robot\\Model or its parent directories. Please check whether the workspace configuration file exists, or provide the full path to the configuration file as an argument. You can download a configuration file for your workspace, via http://ml.azure.com and clicking on the name of your workspace in the right top.\n\tInnerException None\n\tErrorResponse \n{\n    \"error\": {\n        \"code\": \"UserError\",\n        \"message\": \"The workspace configuration file config.json, could not be found in c:\\\\Users\\\\drago\\\\Documents\\\\gitrepos\\\\recycle_robot\\\\Model or its parent directories. Please check whether the workspace configuration file exists, or provide the full path to the configuration file as an argument. You can download a configuration file for your workspace, via http://ml.azure.com and clicking on the name of your workspace in the right top.\"\n    }\n}"
     ]
    }
   ],
   "source": [
    "import azureml.core\n",
    "from azureml.core import Workspace\n",
    "\n",
    "ws = Workspace.from_config()"
   ]
  }
 ],
 "metadata": {
  "kernelspec": {
   "display_name": "venv",
   "language": "python",
   "name": "python3"
  },
  "language_info": {
   "codemirror_mode": {
    "name": "ipython",
    "version": 3
   },
   "file_extension": ".py",
   "mimetype": "text/x-python",
   "name": "python",
   "nbconvert_exporter": "python",
   "pygments_lexer": "ipython3",
   "version": "3.9.13"
  },
  "orig_nbformat": 4
 },
 "nbformat": 4,
 "nbformat_minor": 2
}
