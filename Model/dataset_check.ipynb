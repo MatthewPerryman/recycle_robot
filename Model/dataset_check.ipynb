{
 "cells": [
  {
   "cell_type": "code",
   "execution_count": 1,
   "metadata": {},
   "outputs": [],
   "source": [
    "import cv2\n",
    "from PIL import Image\n",
    "import glob, os"
   ]
  },
  {
   "cell_type": "code",
   "execution_count": null,
   "metadata": {},
   "outputs": [],
   "source": [
    "# Check my dataset image dimensions\n",
    "directory = 'C:/Users/drago/Documents/gitrepos/recycle_robot/Autogathered_Dataset/1/Original_images/'\n",
    "img_shape = (640, 480, 3)\n",
    "for filename in os.listdir(directory):\n",
    "    if filename.endswith('.png'):\n",
    "        # do some actions on the file\n",
    "        dataset_img = cv2.imread(directory + filename)\n",
    "        if dataset_img.shape != img_shape:\n",
    "            print(\"Issue {}: {}\", (filename, dataset_img.shape))\n",
    "\n",
    "        continue\n",
    "    else:\n",
    "        continue\n",
    "\n",
    "\n",
    "# Check Github dataset iamge dimensions\n",
    "img_shape = (4048, 3036, 3)\n",
    "directory = 'C:/Users/drago/Documents/gitrepos/Cross-Recessed-Screw_Deep-Learning-Datasets/Training_Images/'\n",
    "for filename in os.listdir(directory):\n",
    "    if filename.endswith('.jpg'):\n",
    "        dataset_img = cv2.imread(directory + filename)\n",
    "        if dataset_img.shape != img_shape:\n",
    "            print(\"Issue {}: {}\", (filename, dataset_img.shape))\n",
    "        continue\n",
    "    else:\n",
    "        continue\n",
    "\n",
    "directory = 'C:/Users/drago/Documents/gitrepos/Cross-Recessed-Screw_Deep-Learning-Datasets/Training_Images/'"
   ]
  },
  {
   "cell_type": "code",
   "execution_count": null,
   "metadata": {},
   "outputs": [],
   "source": [
    "# Convert git dataset to 480x640 dimensions\n",
    "size = 480, 640\n",
    "\n",
    "for infile in glob.glob(directory + \"*.jpg\"):\n",
    "    file, ext = os.path.splitext(infile)\n",
    "    file_name = os.path.basename(file)\n",
    "    with Image.open(infile) as im:\n",
    "        im.thumbnail(size)\n",
    "        im.save(directory + 'thumbnail/' + file_name + '.jpg', \"JPEG\")"
   ]
  },
  {
   "cell_type": "code",
   "execution_count": null,
   "metadata": {},
   "outputs": [],
   "source": [
    "\n",
    "# Check those dimensions match all images within their respective dataset\n",
    "# NOTE: There are some rotated 90 deg\n",
    "# Now, think of some creative way to handle the difference between the image sizes,\n",
    "#  the new cameras image size and the size of model needed to take these as inputs?\n",
    "# Do I need to scale down the size of the images for prediction? How would I make use of the predictions?\n",
    "#  Would scaling them actually work?"
   ]
  }
 ],
 "metadata": {
  "kernelspec": {
   "display_name": "Python 3",
   "language": "python",
   "name": "python3"
  },
  "language_info": {
   "codemirror_mode": {
    "name": "ipython",
    "version": 3
   },
   "file_extension": ".py",
   "mimetype": "text/x-python",
   "name": "python",
   "nbconvert_exporter": "python",
   "pygments_lexer": "ipython3",
   "version": "3.10.11"
  },
  "orig_nbformat": 4
 },
 "nbformat": 4,
 "nbformat_minor": 2
}
